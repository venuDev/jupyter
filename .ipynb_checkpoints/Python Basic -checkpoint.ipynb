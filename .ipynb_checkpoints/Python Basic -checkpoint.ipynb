{
 "cells": [
  {
   "cell_type": "markdown",
   "metadata": {},
   "source": [
    "# This Tex is comment "
   ]
  },
  {
   "cell_type": "code",
   "execution_count": 5,
   "metadata": {},
   "outputs": [
    {
     "name": "stdout",
     "output_type": "stream",
     "text": [
      "<class 'int'> <class 'str'> <class 'float'> <class 'list'> <class 'list'>\n"
     ]
    }
   ],
   "source": [
    "x = 3\n",
    "y ='count'\n",
    "z =3/2\n",
    "a = [1,2,3]\n",
    "b = ['venu',30,'True']\n",
    "print (type(x),type(y),type(z),type(a),type(b))"
   ]
  },
  {
   "cell_type": "markdown",
   "metadata": {},
   "source": [
    "# list operations"
   ]
  },
  {
   "cell_type": "code",
   "execution_count": 9,
   "metadata": {},
   "outputs": [
    {
     "name": "stdout",
     "output_type": "stream",
     "text": [
      "[1, 2, 3]\n",
      "[1, 2, 3, 'T']\n",
      "[1, 3, 'T']\n"
     ]
    }
   ],
   "source": [
    "str = [1,2,3]\n",
    "print(str)\n",
    "str.append('T')\n",
    "print(str)\n",
    "str.pop(1)\n",
    "print(str)"
   ]
  },
  {
   "cell_type": "code",
   "execution_count": 3,
   "metadata": {},
   "outputs": [
    {
     "name": "stdout",
     "output_type": "stream",
     "text": [
      "[1, 2, 3, 4, 5, 6, 7, 8, 9]\n",
      "[4, 256, 46656, 16777216]\n"
     ]
    }
   ],
   "source": [
    "nums = list(range(1,10))\n",
    "sqnums = [x ** x for x in nums if x % 2 == 0 ]\n",
    "print(nums)\n",
    "print(sqnums)"
   ]
  },
  {
   "cell_type": "code",
   "execution_count": null,
   "metadata": {},
   "outputs": [],
   "source": []
  }
 ],
 "metadata": {
  "kernelspec": {
   "display_name": "Python 3",
   "language": "python",
   "name": "python3"
  },
  "language_info": {
   "codemirror_mode": {
    "name": "ipython",
    "version": 3
   },
   "file_extension": ".py",
   "mimetype": "text/x-python",
   "name": "python",
   "nbconvert_exporter": "python",
   "pygments_lexer": "ipython3",
   "version": "3.6.4"
  }
 },
 "nbformat": 4,
 "nbformat_minor": 2
}
